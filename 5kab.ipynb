{
  "nbformat": 4,
  "nbformat_minor": 0,
  "metadata": {
    "colab": {
      "provenance": [],
      "authorship_tag": "ABX9TyNn2LTN5vwrJ9rhb3aoiMKB",
      "include_colab_link": true
    },
    "kernelspec": {
      "name": "python3",
      "display_name": "Python 3"
    },
    "language_info": {
      "name": "python"
    },
    "accelerator": "GPU",
    "gpuClass": "standard"
  },
  "cells": [
    {
      "cell_type": "markdown",
      "metadata": {
        "id": "view-in-github",
        "colab_type": "text"
      },
      "source": [
        "<a href=\"https://colab.research.google.com/github/kingtuler1454/torch/blob/main/5kab.ipynb\" target=\"_parent\"><img src=\"https://colab.research.google.com/assets/colab-badge.svg\" alt=\"Open In Colab\"/></a>"
      ]
    },
    {
      "cell_type": "markdown",
      "source": [
        "1.   Необходимо загрузить исходный набор данных и соответствующие метки классов.\n",
        "2.   Произвести разделение загруженного набора данных на обучающую, тестовую и валидационую выборки (в соотношении 80:10:10). Проверить, что сформированные выборки сбалансированы.\n",
        "3.   Написать модель нейронной сети для решения задачи классификации.\n",
        "4.   Описать пайплайн предобработки данных. **ВАЖНО**: что так как ваш вариант предполагает работу с текстом, то необходимо выполниить векторизацию данных (подробности в туториале).\n",
        "4.   Написать `train loop` (цикл обучения). Провести эксперименты по обучению с различными значениями параметров `learning rate` (скорость обучения) и `batch size` (размер мини-пакета). Выбрать по 3 значения для `learning rate` и `batch size` (итоговое количество экспериментов будет 9).\n",
        "5.   Для каждого проведенного эксперимента вывести графики для значения функции потерь (ось `x` - итерация обучения/номер эпохи; ось `y` - значение функции потерь) и выбранной метрики качества (ось `x` - итерация обучения/номер эпохи; ось `y` - значение метрики качества). Графики необходимо выводить как для обучающей, так и для валидационной выборки.\n",
        "6.   Оценить качество работы модели на тестовой выборке.\n",
        "7.   Сделайте выводы по полученным результатам проведенных экспериментов. Какую модель из всех полученных стоит использовать?\n",
        "8.   Сохранить обученную модель.\n",
        "9.   Выполните повторную инициализацию модели и загрузку весов.  Продемонстрируйте работоспособность модели (пропустите через нее какой-то отзыв/рецензию и выведите результат).\n",
        "\n",
        "\n",
        "https://www.kaggle.com/code/shivammehta007/spam-not-spam-classifier-with-pytorch"
      ],
      "metadata": {
        "id": "wP67NcnxYIcy"
      }
    },
    {
      "cell_type": "code",
      "execution_count": null,
      "metadata": {
        "id": "EHRjiS4lXzLq"
      },
      "outputs": [],
      "source": [
        "import torch\n",
        "import pandas as pd\n",
        "from numpy import loadtxt\n"
      ]
    },
    {
      "cell_type": "code",
      "source": [
        "torch.cuda.is_available()"
      ],
      "metadata": {
        "colab": {
          "base_uri": "https://localhost:8080/"
        },
        "id": "Ys5YlWVKpKTk",
        "outputId": "c46bd7e2-404c-47d0-bfaf-9a2bdb30906b"
      },
      "execution_count": null,
      "outputs": [
        {
          "output_type": "execute_result",
          "data": {
            "text/plain": [
              "True"
            ]
          },
          "metadata": {},
          "execution_count": 4
        }
      ]
    },
    {
      "cell_type": "code",
      "source": [
        "!nvidia-smi"
      ],
      "metadata": {
        "colab": {
          "base_uri": "https://localhost:8080/"
        },
        "id": "i8e87jTiphJ5",
        "outputId": "3005e36b-f809-4500-a987-bfb9ff18f752"
      },
      "execution_count": null,
      "outputs": [
        {
          "output_type": "stream",
          "name": "stdout",
          "text": [
            "Sun Dec 18 09:52:24 2022       \n",
            "+-----------------------------------------------------------------------------+\n",
            "| NVIDIA-SMI 460.32.03    Driver Version: 460.32.03    CUDA Version: 11.2     |\n",
            "|-------------------------------+----------------------+----------------------+\n",
            "| GPU  Name        Persistence-M| Bus-Id        Disp.A | Volatile Uncorr. ECC |\n",
            "| Fan  Temp  Perf  Pwr:Usage/Cap|         Memory-Usage | GPU-Util  Compute M. |\n",
            "|                               |                      |               MIG M. |\n",
            "|===============================+======================+======================|\n",
            "|   0  Tesla T4            Off  | 00000000:00:04.0 Off |                    0 |\n",
            "| N/A   56C    P8    10W /  70W |      3MiB / 15109MiB |      0%      Default |\n",
            "|                               |                      |                  N/A |\n",
            "+-------------------------------+----------------------+----------------------+\n",
            "                                                                               \n",
            "+-----------------------------------------------------------------------------+\n",
            "| Processes:                                                                  |\n",
            "|  GPU   GI   CI        PID   Type   Process name                  GPU Memory |\n",
            "|        ID   ID                                                   Usage      |\n",
            "|=============================================================================|\n",
            "|  No running processes found                                                 |\n",
            "+-----------------------------------------------------------------------------+\n"
          ]
        }
      ]
    },
    {
      "cell_type": "markdown",
      "source": [
        "Необходимо загрузить исходный набор данных и соответствующие метки классов."
      ],
      "metadata": {
        "id": "Vbh4Td7HzMXi"
      }
    },
    {
      "cell_type": "code",
      "source": [
        "    \n",
        "with open(\"/content/number_star.txt\",\"r+\") as file:\n",
        "  number_star=file.read()\n",
        "  number_star=number_star.split(\", \")\n",
        "\n",
        "with open(\"/content/text_opinions.txt\",\"r+\") as file:\n",
        "  text_opinion=file.read()\n",
        "  text_opinion=text_opinion\n",
        "  text_opinion=text_opinion.split(\"', '\")\n",
        "\n",
        "\n",
        "df = pd.DataFrame({\"star\": number_star, \"text\": text_opinion})\n",
        "print(df)\n",
        "\n",
        "\n"
      ],
      "metadata": {
        "colab": {
          "base_uri": "https://localhost:8080/"
        },
        "id": "9ZiBobMfzamv",
        "outputId": "60af7047-782a-427c-9a5f-e08d1a3acaa8"
      },
      "execution_count": 37,
      "outputs": [
        {
          "output_type": "stream",
          "name": "stdout",
          "text": [
            "     star                                               text\n",
            "0       1  'Ужасный банк\\n\\nДостоинства: не наблюдается\\n...\n",
            "1       1  Испытываю ЧУВСТВО НЕНАВИСТИ еще с 90-х когда в...\n",
            "2       1  Обман кредитных карт сбербанка\\n\\nДостоинства:...\n",
            "3       1  Перестал работать сервис выставления счетов, т...\n",
            "4       1  СМС кредитование, новый подход!\\n\\nДостоинства...\n",
            "...   ...                                                ...\n",
            "3789    5  Нормальный банк\\n\\nДостоинства: Доступно\\nНедо...\n",
            "3790    5  Отличный банк\\n\\nДостоинства: Удобный сервис, ...\n",
            "3791    5  Вернули украденные с карты 27.12.2019 деньги\\n...\n",
            "3792    5  Отлично\\n\\nДостоинства: Оперативность\\nНедоста...\n",
            "3793  5\\n  Хороший банк\\n\\nДостоинства: Удобно что через ...\n",
            "\n",
            "[3794 rows x 2 columns]\n"
          ]
        }
      ]
    },
    {
      "cell_type": "markdown",
      "source": [
        "Произвести разделение загруженного набора данных на обучающую, тестовую и валидационую выборки (в соотношении 80:10:10). Проверить, что сформированные выборки сбалансированы."
      ],
      "metadata": {
        "id": "ASv3LNcIlAi6"
      }
    },
    {
      "cell_type": "code",
      "source": [
        "0-3035 3035-379  3414-380"
      ],
      "metadata": {
        "id": "cSKFGsB7lBOV"
      },
      "execution_count": null,
      "outputs": []
    }
  ]
}